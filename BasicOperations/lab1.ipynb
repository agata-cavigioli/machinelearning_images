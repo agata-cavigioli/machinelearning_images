{
 "cells": [
  {
   "cell_type": "code",
   "execution_count": 1,
   "id": "b798d26b",
   "metadata": {},
   "outputs": [],
   "source": [
    "import cv2 as cv\n",
    "import numpy as np"
   ]
  },
  {
   "cell_type": "code",
   "execution_count": 2,
   "id": "db8b9da4",
   "metadata": {},
   "outputs": [
    {
     "name": "stdout",
     "output_type": "stream",
     "text": [
      "(363, 452, 3)\n",
      "(363, 452)\n",
      "(363, 452)\n",
      "(363, 452, 3)\n"
     ]
    }
   ],
   "source": [
    "import cv2 as cv\n",
    "image = cv.imread('eii.png')\n",
    "\n",
    "print(image.shape)\n",
    "image.size\n",
    "image.dtype\n",
    "px = image[100,100]\n",
    "b = image[100,100,0]\n",
    "image[100,100] = [255,255,255]\n",
    "image[:,100] = [0,0,255]\n",
    "#image = np.zeros((500,500,3),np.uint8)\n",
    "\n",
    "#subimage = image[50:150,50:150]\n",
    "#image[50:150,50:150] = subimage\n",
    "b,g,r = cv.split(image)\n",
    "print(b.shape)\n",
    "cv.imshow('b', b)\n",
    "cv.waitKey(0)\n",
    "cv.destroyAllWindows()\n",
    "cv.imshow('g', g)\n",
    "cv.waitKey(0)\n",
    "cv.destroyAllWindows()\n",
    "cv.imshow('r', r)\n",
    "cv.waitKey(0)\n",
    "cv.destroyAllWindows()\n",
    "print(g.shape)\n",
    "cv.merge([b,g,r],image)\n",
    "print(image.shape)\n",
    "image.size\n",
    "image.dtype\n",
    "#image -= 20\n",
    "#image //= 2\n",
    "#image[:,:,0:2] = 0\n",
    "\n",
    "cv.imshow('EII', image)\n",
    "cv.waitKey(0)\n",
    "cv.destroyAllWindows()"
   ]
  },
  {
   "cell_type": "code",
   "execution_count": 3,
   "id": "91193d8f",
   "metadata": {},
   "outputs": [],
   "source": [
    "img = cv.imread('eii.png')\n",
    "if img is None:\n",
    "    print('Error')\n",
    "else:\n",
    "    cv.imwrite('eii2.png',img)"
   ]
  },
  {
   "cell_type": "code",
   "execution_count": 4,
   "id": "f0c70d60",
   "metadata": {},
   "outputs": [],
   "source": [
    "########################VIDEO\n",
    "video = cv.VideoCapture('traffic-aerial-view.mp4')\n",
    "# 0 para leer de la webcam\n",
    "if video.isOpened():\n",
    "    while True:\n",
    "         state, frame = video.read()\n",
    "         cv.imshow('Video', frame)\n",
    "\n",
    "         if cv.waitKey(20)==27:    #ESC\n",
    "             break\n",
    "video.release()\n",
    "cv.destroyAllWindows()"
   ]
  },
  {
   "cell_type": "code",
   "execution_count": 5,
   "id": "9494e740",
   "metadata": {},
   "outputs": [
    {
     "ename": "SyntaxError",
     "evalue": "invalid character '’' (U+2019) (3782759482.py, line 2)",
     "output_type": "error",
     "traceback": [
      "\u001b[0;36m  Cell \u001b[0;32mIn[5], line 2\u001b[0;36m\u001b[0m\n\u001b[0;31m    fourcc = cv.VideoWriter_fourcc(*’MJPG’)\u001b[0m\n\u001b[0m                                    ^\u001b[0m\n\u001b[0;31mSyntaxError\u001b[0m\u001b[0;31m:\u001b[0m invalid character '’' (U+2019)\n"
     ]
    }
   ],
   "source": [
    "video = cv.VideoCapture(0)\n",
    "fourcc = cv.VideoWriter_fourcc(*’MJPG’)\n",
    "out = cv.VideoWriter('out.mpg’,fourcc,\n",
    "30,(640,480))\n",
    "while True:\n",
    "     state, frame = video.read()\n",
    "     cv.imshow('webcam',frame)\n",
    "     out.write(frame)\n",
    "         if cv.waitKey(1)==27:\n",
    "             break\n",
    "video.release()\n",
    "out.release()\n",
    "cv.destroyAllWindows()"
   ]
  },
  {
   "cell_type": "code",
   "execution_count": null,
   "id": "fb8587cc",
   "metadata": {},
   "outputs": [],
   "source": []
  }
 ],
 "metadata": {
  "kernelspec": {
   "display_name": "Python 3 (ipykernel)",
   "language": "python",
   "name": "python3"
  },
  "language_info": {
   "codemirror_mode": {
    "name": "ipython",
    "version": 3
   },
   "file_extension": ".py",
   "mimetype": "text/x-python",
   "name": "python",
   "nbconvert_exporter": "python",
   "pygments_lexer": "ipython3",
   "version": "3.10.12"
  }
 },
 "nbformat": 4,
 "nbformat_minor": 5
}
