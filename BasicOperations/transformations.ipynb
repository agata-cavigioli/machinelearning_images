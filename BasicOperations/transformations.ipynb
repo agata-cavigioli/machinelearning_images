{
 "cells": [
  {
   "cell_type": "code",
   "execution_count": 15,
   "id": "3648528c",
   "metadata": {},
   "outputs": [
    {
     "name": "stdout",
     "output_type": "stream",
     "text": [
      "(363, 452, 3)\n"
     ]
    }
   ],
   "source": [
    "import numpy as np\n",
    "import cv2 as cv\n",
    "image = cv.imread('eii.png')\n",
    "\n",
    "w = image.shape[1]\n",
    "h = image.shape[0]\n",
    "print(w,h)\n",
    "\n",
    "pts1 = np.float32([[0,0],[0,20],[30,0]])\n",
    "pts2 = np.float32([[0,0],[7,20],[30,15]])\n",
    "\n",
    "Ta = cv.getAffineTransform(pts1,pts2)\n",
    "imageA = cv.warpAffine(image,Ta,(1000,1000))\n",
    "\n",
    "cv.imshow('EII', imageA)\n",
    "cv.waitKey(0)\n",
    "cv.destroyAllWindows()"
   ]
  },
  {
   "cell_type": "code",
   "execution_count": 14,
   "id": "09042485",
   "metadata": {},
   "outputs": [
    {
     "name": "stdout",
     "output_type": "stream",
     "text": [
      "452 363\n"
     ]
    }
   ],
   "source": [
    "pts1 = np.float32([[0,0],[w,0],[w,h],[0,h]])\n",
    "pts2 = np.float32([[0,0],[w-30,60],[w-30,h-60],[0,h]])\n",
    "\n",
    "Ta = cv.getPerspectiveTransform(pts1,pts2)\n",
    "imageB = cv.warpPerspective(image,Ta,(w,h))\n",
    "\n",
    "cv.imshow('EII', imageB)\n",
    "cv.waitKey(0)\n",
    "cv.destroyAllWindows()"
   ]
  },
  {
   "cell_type": "code",
   "execution_count": null,
   "id": "49fd4159",
   "metadata": {},
   "outputs": [],
   "source": []
  }
 ],
 "metadata": {
  "kernelspec": {
   "display_name": "Python 3 (ipykernel)",
   "language": "python",
   "name": "python3"
  },
  "language_info": {
   "codemirror_mode": {
    "name": "ipython",
    "version": 3
   },
   "file_extension": ".py",
   "mimetype": "text/x-python",
   "name": "python",
   "nbconvert_exporter": "python",
   "pygments_lexer": "ipython3",
   "version": "3.10.12"
  }
 },
 "nbformat": 4,
 "nbformat_minor": 5
}
