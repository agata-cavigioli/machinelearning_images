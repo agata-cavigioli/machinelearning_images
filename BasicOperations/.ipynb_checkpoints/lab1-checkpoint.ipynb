{
 "cells": [
  {
   "cell_type": "code",
   "execution_count": null,
   "id": "b798d26b",
   "metadata": {},
   "outputs": [],
   "source": [
    "import cv2 as cv\n",
    "import numpy as np"
   ]
  },
  {
   "cell_type": "code",
   "execution_count": null,
   "id": "db8b9da4",
   "metadata": {},
   "outputs": [
    {
     "name": "stdout",
     "output_type": "stream",
     "text": [
      "(363, 452, 3)\n",
      "492228\n",
      "uint8\n"
     ]
    }
   ],
   "source": [
    "image = cv.imread('eii.png')\n",
    "\n",
    "print(image.shape)\n",
    "print(image.size)\n",
    "print(image.dtype)\n",
    "\n",
    "px = image[100,100]\n",
    "b = image[100,100,2]\n",
    "\n",
    "image[100,100] = [0,255,255]\n",
    "image[:,100] = [0,0,255]\n",
    "\n",
    "image = np.zeros((500,500,3),np.uint8)\n",
    "\n",
    "\n",
    "#Displays image inside a window\n",
    "cv.imshow('color image',image)\n",
    " \n",
    "# Waits for a keystroke\n",
    "cv.waitKey(0)  \n",
    " \n",
    "# Destroys all the windows created\n",
    "cv.destroyAllwindows() "
   ]
  },
  {
   "cell_type": "code",
   "execution_count": null,
   "id": "f79eced4",
   "metadata": {},
   "outputs": [],
   "source": [
    "img = cv.imread('eii.png')\n",
    "if img is None:\n",
    "    print('Error')\n",
    "else:\n",
    "    cv.imwrite('eii2.png',img)"
   ]
  },
  {
   "cell_type": "code",
   "execution_count": null,
   "id": "0a4fb21a",
   "metadata": {},
   "outputs": [],
   "source": [
    "########################VIDEO\n",
    "\n",
    "video = cv.VideoCapture('video.mp4')"
   ]
  }
 ],
 "metadata": {
  "kernelspec": {
   "display_name": "Python 3 (ipykernel)",
   "language": "python",
   "name": "python3"
  },
  "language_info": {
   "codemirror_mode": {
    "name": "ipython",
    "version": 3
   },
   "file_extension": ".py",
   "mimetype": "text/x-python",
   "name": "python",
   "nbconvert_exporter": "python",
   "pygments_lexer": "ipython3",
   "version": "3.10.12"
  }
 },
 "nbformat": 4,
 "nbformat_minor": 5
}
