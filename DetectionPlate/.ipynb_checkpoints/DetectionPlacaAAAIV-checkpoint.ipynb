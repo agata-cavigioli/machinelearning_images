{
 "cells": [
  {
   "cell_type": "markdown",
   "metadata": {
    "id": "QSXcJaN4vn9K"
   },
   "source": [
    "# Detector de Placas\n",
    "Trabajo Final de AAAIV - 2023/24 -  Realizado por: **Agata Cavigioli, Giovanni Sgambato**"
   ]
  },
  {
   "cell_type": "markdown",
   "metadata": {
    "id": "lWg3PPqtvO7B"
   },
   "source": [
    "## Paquetes necesarios"
   ]
  },
  {
   "cell_type": "code",
   "execution_count": 1,
   "metadata": {
    "id": "VyelYFIpvO7G"
   },
   "outputs": [],
   "source": [
    "import cv2\n",
    "import matplotlib.pyplot as plt\n",
    "from ultralytics import YOLO\n",
    "import pytesseract\n",
    "from pytesseract import Output\n",
    "import re\n",
    "\n",
    "import numpy as np\n",
    "import math"
   ]
  },
  {
   "cell_type": "code",
   "execution_count": 2,
   "metadata": {
    "id": "yF59Ot5-vO7I"
   },
   "outputs": [],
   "source": [
    "# Si la ruta de Tesseract no está en el PATH, ruta al ejecutable\n",
    "pytesseract.pytesseract.tesseract_cmd = r'/usr/bin/tesseract'"
   ]
  },
  {
   "cell_type": "markdown",
   "metadata": {
    "id": "F9QUO9LDvO7J"
   },
   "source": [
    "## References  \n",
    "https://inside-machinelearning.com/en/yolov8-how-to-use/  \n",
    "https://inside-machinelearning.com/en/bounding-boxes-python-function/  \n",
    "https://docs.ultralytics.com/  \n",
    "https://blog.roboflow.com/how-to-train-yolov8-on-a-custom-dataset/"
   ]
  },
  {
   "cell_type": "markdown",
   "metadata": {
    "id": "FmlFxtnTvO7J"
   },
   "source": [
    "## Yolo stuff"
   ]
  },
  {
   "cell_type": "code",
   "execution_count": 3,
   "metadata": {
    "id": "tBXdQa5lvO7J"
   },
   "outputs": [],
   "source": [
    "# Carga del modelo YOLO\n",
    "model = YOLO('yolov8n.pt')  # implementación de YOLO cargada\n",
    "\n",
    "# Nombre de las distintas clases\n",
    "classNames = [\"person\", \"bicycle\", \"car\", \"motorbike\", \"aeroplane\", \"bus\", \"train\", \"truck\", \"boat\",\n",
    "              \"traffic light\", \"fire hydrant\", \"stop sign\", \"parking meter\", \"bench\", \"bird\", \"cat\",\n",
    "              \"dog\", \"horse\", \"sheep\", \"cow\", \"elephant\", \"bear\", \"zebra\", \"giraffe\", \"backpack\", \"umbrella\",\n",
    "              \"handbag\", \"tie\", \"suitcase\", \"frisbee\", \"skis\", \"snowboard\", \"sports ball\", \"kite\", \"baseball bat\",\n",
    "              \"baseball glove\", \"skateboard\", \"surfboard\", \"tennis racket\", \"bottle\", \"wine glass\", \"cup\",\n",
    "              \"fork\", \"knife\", \"spoon\", \"bowl\", \"banana\", \"apple\", \"sandwich\", \"orange\", \"broccoli\",\n",
    "              \"carrot\", \"hot dog\", \"pizza\", \"donut\", \"cake\", \"chair\", \"sofa\", \"pottedplant\", \"bed\",\n",
    "              \"diningtable\", \"toilet\", \"tvmonitor\", \"laptop\", \"mouse\", \"remote\", \"keyboard\", \"cell phone\",\n",
    "              \"microwave\", \"oven\", \"toaster\", \"sink\", \"refrigerator\", \"book\", \"clock\", \"vase\", \"scissors\",\n",
    "              \"teddy bear\", \"hair drier\", \"toothbrush\"\n",
    "              ]\n",
    "\n"
   ]
  },
  {
   "cell_type": "markdown",
   "metadata": {
    "id": "_HSMkHetvO7K"
   },
   "source": [
    "## Detection de Coche (Yolo basic)"
   ]
  },
  {
   "cell_type": "code",
   "execution_count": 4,
   "metadata": {
    "id": "b30ATJ87vO7K",
    "outputId": "c12e9a29-b918-40f0-fb07-4ace636b704f"
   },
   "outputs": [
    {
     "name": "stdout",
     "output_type": "stream",
     "text": [
      "\n",
      "75 107 779 506\n",
      "Confidence ---> 0.91\n",
      "Class name --> car\n",
      "escala:  19 2 80\n",
      "B:  0\n",
      "0 1 72 158\n",
      "Confidence ---> 0.73\n",
      "Class name --> truck\n",
      "108 0 347 135\n",
      "Confidence ---> 0.72\n",
      "Class name --> truck\n",
      "0: 480x640 1 car, 2 trucks, 162.4ms\n",
      "Speed: 6.1ms preprocess, 162.4ms inference, 1.8ms postprocess per image at shape (1, 3, 480, 640)\n",
      "75 107 779 506\n"
     ]
    }
   ],
   "source": [
    "# Ruta de la imagen a procesar\n",
    "img_path = \"Images/\"\n",
    "\n",
    "# Leer la imagen\n",
    "img = cv2.imread(img_path + 'coche1.jpg')\n",
    "#img = cv2.imread('test3.jpg')\n",
    "\n",
    "# Perform inference on an image\n",
    "results = model(img, stream=True)\n",
    "\n",
    "# Variable para indicar si se detectó un coche\n",
    "car_detected = False\n",
    "\n",
    "# Para cada detección\n",
    "for r in results:\n",
    "    boxes = r.boxes\n",
    "\n",
    "    for box in boxes:\n",
    "        # Contenedor\n",
    "        x1, y1, x2, y2 = box.xyxy[0]\n",
    "        x1, y1, x2, y2 = int(x1), int(y1), int(x2), int(y2) # convert to int values\n",
    "        print(x1,y1,x2,y2)\n",
    "\n",
    "        # Confianza\n",
    "        confidence = math.ceil((box.conf[0]*100))/100\n",
    "        print(\"Confidence --->\",confidence)\n",
    "\n",
    "        # Clase\n",
    "        cls = int(box.cls[0])\n",
    "        print(\"Class name -->\", classNames[cls])\n",
    "\n",
    "        # Si la clase detectada es un coche\n",
    "        if classNames[cls] == \"car\":\n",
    "\n",
    "            # Convierte identificador numérico de clase a un color RGB\n",
    "            escala = int((cls / len(classNames)) * 255 * 3)\n",
    "            print('escala: ',escala,cls , len(classNames))\n",
    "            if escala >= 255*2:\n",
    "                R = 255\n",
    "                G = 255\n",
    "                B = escala - 255*2\n",
    "            else:\n",
    "                if escala >= 255:\n",
    "                    R = 255\n",
    "                    G = escala - 255\n",
    "                    B = 0\n",
    "                else:\n",
    "                    R = escala\n",
    "                    G = 0\n",
    "                    B = 0\n",
    "\n",
    "            # Dibuja el contenedor y clase\n",
    "            cv2.rectangle(img, (x1, y1), (x2, y2), (R, G, 255), 3)\n",
    "            cv2.putText(img, classNames[cls] , [x1, y1], cv2.FONT_HERSHEY_SIMPLEX, 1, (0, 0, 255), 2)\n",
    "            print('B: ', B)\n",
    "\n",
    "            # Si se detecta un coche, actualiza la variable\n",
    "            car_detected = True\n",
    "            car_r = img[y1:y2, x1:x2]\n",
    "\n",
    "            x1_car, y1_car, x2_car, y2_car = x1,y1,x2,y2\n",
    "\n",
    "            #show_image('car', car_r)\n",
    "\n",
    "    cv2.imshow('car', img)\n",
    "    cv2.waitKey(0)\n",
    "    cv2.destroyAllWindows()\n",
    "\n",
    "#car_r = img\n",
    "#alt = car_r.shape[0]\n",
    "#lar = car_r.shape[1]\n",
    "\n",
    "# Tamaño imágenes\n",
    "#size  = (lar,alt)    #larghezza, altezza\n",
    "\n",
    "# Visualización de las imágenes\n",
    "def show_image(window_name, image):\n",
    "    alt = image.shape[0]\n",
    "    lar = image.shape[1]\n",
    "    # Tamaño imágenes\n",
    "    size  = (lar,alt)    #larghezza, altezza\n",
    "    resized_image = cv2.resize(image, size)\n",
    "    cv2.imshow(window_name, resized_image)\n",
    "    cv2.waitKey(0)\n",
    "    cv2.destroyAllWindows()\n",
    "\n",
    "show_image('car_fine', car_r)\n",
    "\n",
    "print(x1_car, y1_car, x2_car, y2_car)"
   ]
  },
  {
   "cell_type": "markdown",
   "metadata": {
    "id": "X3gaKre8vO7M"
   },
   "source": [
    "#### Intento 1 - Placa\n",
    "Buscando la region aplicando escala de gris + threshold + la funcion findContours()  \n",
    "y luego en la mitad inferior el contorno ma largo"
   ]
  },
  {
   "cell_type": "code",
   "execution_count": 5,
   "metadata": {
    "id": "Gv5f9niIvO7M",
    "outputId": "69073767-a911-48b0-ca51-d63c006cd55e"
   },
   "outputs": [
    {
     "name": "stdout",
     "output_type": "stream",
     "text": [
      "lower half:  199\n",
      "central-third:  234 470 \n",
      "\n"
     ]
    },
    {
     "ename": "TesseractNotFoundError",
     "evalue": "C:\\Program Files\\Tesseract-OCR\\tesseract is not installed or it's not in your PATH. See README file for more information.",
     "output_type": "error",
     "traceback": [
      "\u001b[0;31m---------------------------------------------------------------------------\u001b[0m",
      "\u001b[0;31mFileNotFoundError\u001b[0m                         Traceback (most recent call last)",
      "File \u001b[0;32m~/.local/lib/python3.10/site-packages/pytesseract/pytesseract.py:255\u001b[0m, in \u001b[0;36mrun_tesseract\u001b[0;34m(input_filename, output_filename_base, extension, lang, config, nice, timeout)\u001b[0m\n\u001b[1;32m    254\u001b[0m \u001b[38;5;28;01mtry\u001b[39;00m:\n\u001b[0;32m--> 255\u001b[0m     proc \u001b[38;5;241m=\u001b[39m \u001b[43msubprocess\u001b[49m\u001b[38;5;241;43m.\u001b[39;49m\u001b[43mPopen\u001b[49m\u001b[43m(\u001b[49m\u001b[43mcmd_args\u001b[49m\u001b[43m,\u001b[49m\u001b[43m \u001b[49m\u001b[38;5;241;43m*\u001b[39;49m\u001b[38;5;241;43m*\u001b[39;49m\u001b[43msubprocess_args\u001b[49m\u001b[43m(\u001b[49m\u001b[43m)\u001b[49m\u001b[43m)\u001b[49m\n\u001b[1;32m    256\u001b[0m \u001b[38;5;28;01mexcept\u001b[39;00m \u001b[38;5;167;01mOSError\u001b[39;00m \u001b[38;5;28;01mas\u001b[39;00m e:\n",
      "File \u001b[0;32m/usr/lib/python3.10/subprocess.py:971\u001b[0m, in \u001b[0;36mPopen.__init__\u001b[0;34m(self, args, bufsize, executable, stdin, stdout, stderr, preexec_fn, close_fds, shell, cwd, env, universal_newlines, startupinfo, creationflags, restore_signals, start_new_session, pass_fds, user, group, extra_groups, encoding, errors, text, umask, pipesize)\u001b[0m\n\u001b[1;32m    968\u001b[0m             \u001b[38;5;28mself\u001b[39m\u001b[38;5;241m.\u001b[39mstderr \u001b[38;5;241m=\u001b[39m io\u001b[38;5;241m.\u001b[39mTextIOWrapper(\u001b[38;5;28mself\u001b[39m\u001b[38;5;241m.\u001b[39mstderr,\n\u001b[1;32m    969\u001b[0m                     encoding\u001b[38;5;241m=\u001b[39mencoding, errors\u001b[38;5;241m=\u001b[39merrors)\n\u001b[0;32m--> 971\u001b[0m     \u001b[38;5;28;43mself\u001b[39;49m\u001b[38;5;241;43m.\u001b[39;49m\u001b[43m_execute_child\u001b[49m\u001b[43m(\u001b[49m\u001b[43margs\u001b[49m\u001b[43m,\u001b[49m\u001b[43m \u001b[49m\u001b[43mexecutable\u001b[49m\u001b[43m,\u001b[49m\u001b[43m \u001b[49m\u001b[43mpreexec_fn\u001b[49m\u001b[43m,\u001b[49m\u001b[43m \u001b[49m\u001b[43mclose_fds\u001b[49m\u001b[43m,\u001b[49m\n\u001b[1;32m    972\u001b[0m \u001b[43m                        \u001b[49m\u001b[43mpass_fds\u001b[49m\u001b[43m,\u001b[49m\u001b[43m \u001b[49m\u001b[43mcwd\u001b[49m\u001b[43m,\u001b[49m\u001b[43m \u001b[49m\u001b[43menv\u001b[49m\u001b[43m,\u001b[49m\n\u001b[1;32m    973\u001b[0m \u001b[43m                        \u001b[49m\u001b[43mstartupinfo\u001b[49m\u001b[43m,\u001b[49m\u001b[43m \u001b[49m\u001b[43mcreationflags\u001b[49m\u001b[43m,\u001b[49m\u001b[43m \u001b[49m\u001b[43mshell\u001b[49m\u001b[43m,\u001b[49m\n\u001b[1;32m    974\u001b[0m \u001b[43m                        \u001b[49m\u001b[43mp2cread\u001b[49m\u001b[43m,\u001b[49m\u001b[43m \u001b[49m\u001b[43mp2cwrite\u001b[49m\u001b[43m,\u001b[49m\n\u001b[1;32m    975\u001b[0m \u001b[43m                        \u001b[49m\u001b[43mc2pread\u001b[49m\u001b[43m,\u001b[49m\u001b[43m \u001b[49m\u001b[43mc2pwrite\u001b[49m\u001b[43m,\u001b[49m\n\u001b[1;32m    976\u001b[0m \u001b[43m                        \u001b[49m\u001b[43merrread\u001b[49m\u001b[43m,\u001b[49m\u001b[43m \u001b[49m\u001b[43merrwrite\u001b[49m\u001b[43m,\u001b[49m\n\u001b[1;32m    977\u001b[0m \u001b[43m                        \u001b[49m\u001b[43mrestore_signals\u001b[49m\u001b[43m,\u001b[49m\n\u001b[1;32m    978\u001b[0m \u001b[43m                        \u001b[49m\u001b[43mgid\u001b[49m\u001b[43m,\u001b[49m\u001b[43m \u001b[49m\u001b[43mgids\u001b[49m\u001b[43m,\u001b[49m\u001b[43m \u001b[49m\u001b[43muid\u001b[49m\u001b[43m,\u001b[49m\u001b[43m \u001b[49m\u001b[43mumask\u001b[49m\u001b[43m,\u001b[49m\n\u001b[1;32m    979\u001b[0m \u001b[43m                        \u001b[49m\u001b[43mstart_new_session\u001b[49m\u001b[43m)\u001b[49m\n\u001b[1;32m    980\u001b[0m \u001b[38;5;28;01mexcept\u001b[39;00m:\n\u001b[1;32m    981\u001b[0m     \u001b[38;5;66;03m# Cleanup if the child failed starting.\u001b[39;00m\n",
      "File \u001b[0;32m/usr/lib/python3.10/subprocess.py:1863\u001b[0m, in \u001b[0;36mPopen._execute_child\u001b[0;34m(self, args, executable, preexec_fn, close_fds, pass_fds, cwd, env, startupinfo, creationflags, shell, p2cread, p2cwrite, c2pread, c2pwrite, errread, errwrite, restore_signals, gid, gids, uid, umask, start_new_session)\u001b[0m\n\u001b[1;32m   1862\u001b[0m         err_msg \u001b[38;5;241m=\u001b[39m os\u001b[38;5;241m.\u001b[39mstrerror(errno_num)\n\u001b[0;32m-> 1863\u001b[0m     \u001b[38;5;28;01mraise\u001b[39;00m child_exception_type(errno_num, err_msg, err_filename)\n\u001b[1;32m   1864\u001b[0m \u001b[38;5;28;01mraise\u001b[39;00m child_exception_type(err_msg)\n",
      "\u001b[0;31mFileNotFoundError\u001b[0m: [Errno 2] No such file or directory: 'C:\\\\Program Files\\\\Tesseract-OCR\\\\tesseract'",
      "\nDuring handling of the above exception, another exception occurred:\n",
      "\u001b[0;31mTesseractNotFoundError\u001b[0m                    Traceback (most recent call last)",
      "Cell \u001b[0;32mIn[5], line 49\u001b[0m\n\u001b[1;32m     44\u001b[0m show_image(\u001b[38;5;124m'\u001b[39m\u001b[38;5;124mRegion Matricula\u001b[39m\u001b[38;5;124m'\u001b[39m, region)\n\u001b[1;32m     45\u001b[0m \u001b[38;5;66;03m#cv2.imshow('region', region)\u001b[39;00m\n\u001b[1;32m     46\u001b[0m \n\u001b[1;32m     47\u001b[0m \u001b[38;5;66;03m# Utilizar pytesseract para la detección de texto en la imagen preprocesada\u001b[39;00m\n\u001b[1;32m     48\u001b[0m \u001b[38;5;66;03m#text = pytesseract.image_to_string(region_of_interest, config=custom_config)\u001b[39;00m\n\u001b[0;32m---> 49\u001b[0m text \u001b[38;5;241m=\u001b[39m \u001b[43mpytesseract\u001b[49m\u001b[38;5;241;43m.\u001b[39;49m\u001b[43mimage_to_string\u001b[49m\u001b[43m(\u001b[49m\u001b[43mregion\u001b[49m\u001b[43m)\u001b[49m\n\u001b[1;32m     50\u001b[0m \u001b[38;5;28mprint\u001b[39m(text)\n\u001b[1;32m     51\u001b[0m \u001b[38;5;28mprint\u001b[39m(\u001b[38;5;124m\"\u001b[39m\u001b[38;5;124mMatricula detectada:\u001b[39m\u001b[38;5;124m\"\u001b[39m, text)\n",
      "File \u001b[0;32m~/.local/lib/python3.10/site-packages/pytesseract/pytesseract.py:423\u001b[0m, in \u001b[0;36mimage_to_string\u001b[0;34m(image, lang, config, nice, output_type, timeout)\u001b[0m\n\u001b[1;32m    418\u001b[0m \u001b[38;5;250m\u001b[39m\u001b[38;5;124;03m\"\"\"\u001b[39;00m\n\u001b[1;32m    419\u001b[0m \u001b[38;5;124;03mReturns the result of a Tesseract OCR run on the provided image to string\u001b[39;00m\n\u001b[1;32m    420\u001b[0m \u001b[38;5;124;03m\"\"\"\u001b[39;00m\n\u001b[1;32m    421\u001b[0m args \u001b[38;5;241m=\u001b[39m [image, \u001b[38;5;124m'\u001b[39m\u001b[38;5;124mtxt\u001b[39m\u001b[38;5;124m'\u001b[39m, lang, config, nice, timeout]\n\u001b[0;32m--> 423\u001b[0m \u001b[38;5;28;01mreturn\u001b[39;00m \u001b[43m{\u001b[49m\n\u001b[1;32m    424\u001b[0m \u001b[43m    \u001b[49m\u001b[43mOutput\u001b[49m\u001b[38;5;241;43m.\u001b[39;49m\u001b[43mBYTES\u001b[49m\u001b[43m:\u001b[49m\u001b[43m \u001b[49m\u001b[38;5;28;43;01mlambda\u001b[39;49;00m\u001b[43m:\u001b[49m\u001b[43m \u001b[49m\u001b[43mrun_and_get_output\u001b[49m\u001b[43m(\u001b[49m\u001b[38;5;241;43m*\u001b[39;49m\u001b[43m(\u001b[49m\u001b[43margs\u001b[49m\u001b[43m \u001b[49m\u001b[38;5;241;43m+\u001b[39;49m\u001b[43m \u001b[49m\u001b[43m[\u001b[49m\u001b[38;5;28;43;01mTrue\u001b[39;49;00m\u001b[43m]\u001b[49m\u001b[43m)\u001b[49m\u001b[43m)\u001b[49m\u001b[43m,\u001b[49m\n\u001b[1;32m    425\u001b[0m \u001b[43m    \u001b[49m\u001b[43mOutput\u001b[49m\u001b[38;5;241;43m.\u001b[39;49m\u001b[43mDICT\u001b[49m\u001b[43m:\u001b[49m\u001b[43m \u001b[49m\u001b[38;5;28;43;01mlambda\u001b[39;49;00m\u001b[43m:\u001b[49m\u001b[43m \u001b[49m\u001b[43m{\u001b[49m\u001b[38;5;124;43m'\u001b[39;49m\u001b[38;5;124;43mtext\u001b[39;49m\u001b[38;5;124;43m'\u001b[39;49m\u001b[43m:\u001b[49m\u001b[43m \u001b[49m\u001b[43mrun_and_get_output\u001b[49m\u001b[43m(\u001b[49m\u001b[38;5;241;43m*\u001b[39;49m\u001b[43margs\u001b[49m\u001b[43m)\u001b[49m\u001b[43m}\u001b[49m\u001b[43m,\u001b[49m\n\u001b[1;32m    426\u001b[0m \u001b[43m    \u001b[49m\u001b[43mOutput\u001b[49m\u001b[38;5;241;43m.\u001b[39;49m\u001b[43mSTRING\u001b[49m\u001b[43m:\u001b[49m\u001b[43m \u001b[49m\u001b[38;5;28;43;01mlambda\u001b[39;49;00m\u001b[43m:\u001b[49m\u001b[43m \u001b[49m\u001b[43mrun_and_get_output\u001b[49m\u001b[43m(\u001b[49m\u001b[38;5;241;43m*\u001b[39;49m\u001b[43margs\u001b[49m\u001b[43m)\u001b[49m\u001b[43m,\u001b[49m\n\u001b[1;32m    427\u001b[0m \u001b[43m\u001b[49m\u001b[43m}\u001b[49m\u001b[43m[\u001b[49m\u001b[43moutput_type\u001b[49m\u001b[43m]\u001b[49m\u001b[43m(\u001b[49m\u001b[43m)\u001b[49m\n",
      "File \u001b[0;32m~/.local/lib/python3.10/site-packages/pytesseract/pytesseract.py:426\u001b[0m, in \u001b[0;36mimage_to_string.<locals>.<lambda>\u001b[0;34m()\u001b[0m\n\u001b[1;32m    418\u001b[0m \u001b[38;5;250m\u001b[39m\u001b[38;5;124;03m\"\"\"\u001b[39;00m\n\u001b[1;32m    419\u001b[0m \u001b[38;5;124;03mReturns the result of a Tesseract OCR run on the provided image to string\u001b[39;00m\n\u001b[1;32m    420\u001b[0m \u001b[38;5;124;03m\"\"\"\u001b[39;00m\n\u001b[1;32m    421\u001b[0m args \u001b[38;5;241m=\u001b[39m [image, \u001b[38;5;124m'\u001b[39m\u001b[38;5;124mtxt\u001b[39m\u001b[38;5;124m'\u001b[39m, lang, config, nice, timeout]\n\u001b[1;32m    423\u001b[0m \u001b[38;5;28;01mreturn\u001b[39;00m {\n\u001b[1;32m    424\u001b[0m     Output\u001b[38;5;241m.\u001b[39mBYTES: \u001b[38;5;28;01mlambda\u001b[39;00m: run_and_get_output(\u001b[38;5;241m*\u001b[39m(args \u001b[38;5;241m+\u001b[39m [\u001b[38;5;28;01mTrue\u001b[39;00m])),\n\u001b[1;32m    425\u001b[0m     Output\u001b[38;5;241m.\u001b[39mDICT: \u001b[38;5;28;01mlambda\u001b[39;00m: {\u001b[38;5;124m'\u001b[39m\u001b[38;5;124mtext\u001b[39m\u001b[38;5;124m'\u001b[39m: run_and_get_output(\u001b[38;5;241m*\u001b[39margs)},\n\u001b[0;32m--> 426\u001b[0m     Output\u001b[38;5;241m.\u001b[39mSTRING: \u001b[38;5;28;01mlambda\u001b[39;00m: \u001b[43mrun_and_get_output\u001b[49m\u001b[43m(\u001b[49m\u001b[38;5;241;43m*\u001b[39;49m\u001b[43margs\u001b[49m\u001b[43m)\u001b[49m,\n\u001b[1;32m    427\u001b[0m }[output_type]()\n",
      "File \u001b[0;32m~/.local/lib/python3.10/site-packages/pytesseract/pytesseract.py:288\u001b[0m, in \u001b[0;36mrun_and_get_output\u001b[0;34m(image, extension, lang, config, nice, timeout, return_bytes)\u001b[0m\n\u001b[1;32m    277\u001b[0m \u001b[38;5;28;01mwith\u001b[39;00m save(image) \u001b[38;5;28;01mas\u001b[39;00m (temp_name, input_filename):\n\u001b[1;32m    278\u001b[0m     kwargs \u001b[38;5;241m=\u001b[39m {\n\u001b[1;32m    279\u001b[0m         \u001b[38;5;124m'\u001b[39m\u001b[38;5;124minput_filename\u001b[39m\u001b[38;5;124m'\u001b[39m: input_filename,\n\u001b[1;32m    280\u001b[0m         \u001b[38;5;124m'\u001b[39m\u001b[38;5;124moutput_filename_base\u001b[39m\u001b[38;5;124m'\u001b[39m: temp_name,\n\u001b[0;32m   (...)\u001b[0m\n\u001b[1;32m    285\u001b[0m         \u001b[38;5;124m'\u001b[39m\u001b[38;5;124mtimeout\u001b[39m\u001b[38;5;124m'\u001b[39m: timeout,\n\u001b[1;32m    286\u001b[0m     }\n\u001b[0;32m--> 288\u001b[0m     \u001b[43mrun_tesseract\u001b[49m\u001b[43m(\u001b[49m\u001b[38;5;241;43m*\u001b[39;49m\u001b[38;5;241;43m*\u001b[39;49m\u001b[43mkwargs\u001b[49m\u001b[43m)\u001b[49m\n\u001b[1;32m    289\u001b[0m     filename \u001b[38;5;241m=\u001b[39m \u001b[38;5;124mf\u001b[39m\u001b[38;5;124m\"\u001b[39m\u001b[38;5;132;01m{\u001b[39;00mkwargs[\u001b[38;5;124m'\u001b[39m\u001b[38;5;124moutput_filename_base\u001b[39m\u001b[38;5;124m'\u001b[39m]\u001b[38;5;132;01m}\u001b[39;00m\u001b[38;5;132;01m{\u001b[39;00mextsep\u001b[38;5;132;01m}\u001b[39;00m\u001b[38;5;132;01m{\u001b[39;00mextension\u001b[38;5;132;01m}\u001b[39;00m\u001b[38;5;124m\"\u001b[39m\n\u001b[1;32m    290\u001b[0m     \u001b[38;5;28;01mwith\u001b[39;00m \u001b[38;5;28mopen\u001b[39m(filename, \u001b[38;5;124m'\u001b[39m\u001b[38;5;124mrb\u001b[39m\u001b[38;5;124m'\u001b[39m) \u001b[38;5;28;01mas\u001b[39;00m output_file:\n",
      "File \u001b[0;32m~/.local/lib/python3.10/site-packages/pytesseract/pytesseract.py:260\u001b[0m, in \u001b[0;36mrun_tesseract\u001b[0;34m(input_filename, output_filename_base, extension, lang, config, nice, timeout)\u001b[0m\n\u001b[1;32m    258\u001b[0m         \u001b[38;5;28;01mraise\u001b[39;00m\n\u001b[1;32m    259\u001b[0m     \u001b[38;5;28;01melse\u001b[39;00m:\n\u001b[0;32m--> 260\u001b[0m         \u001b[38;5;28;01mraise\u001b[39;00m TesseractNotFoundError()\n\u001b[1;32m    262\u001b[0m \u001b[38;5;28;01mwith\u001b[39;00m timeout_manager(proc, timeout) \u001b[38;5;28;01mas\u001b[39;00m error_string:\n\u001b[1;32m    263\u001b[0m     \u001b[38;5;28;01mif\u001b[39;00m proc\u001b[38;5;241m.\u001b[39mreturncode:\n",
      "\u001b[0;31mTesseractNotFoundError\u001b[0m: C:\\Program Files\\Tesseract-OCR\\tesseract is not installed or it's not in your PATH. See README file for more information."
     ]
    }
   ],
   "source": [
    "if car_detected:\n",
    "    # Convertimos la imagen a escala de grises\n",
    "    gray = cv2.cvtColor(car_r, cv2.COLOR_BGR2GRAY)\n",
    "    show_image('Escala de grises', gray)\n",
    "\n",
    "    # Aplicamos un threshold\n",
    "    thresh = cv2.threshold(gray, 60, 255, cv2.THRESH_BINARY_INV)[1]\n",
    "    show_image('Threshold', thresh)\n",
    "\n",
    "    # Buscamos los contornos presentes\n",
    "    contours, _ = cv2.findContours(thresh, cv2.RETR_LIST, cv2.CHAIN_APPROX_NONE)\n",
    "    #print(contours)\n",
    "    canvas = np.zeros_like(car_r)\n",
    "    cv2.drawContours(canvas, contours, -1, (0, 255, 0), 2)\n",
    "    show_image('Bordes', canvas)\n",
    "\n",
    "    # Filtrar contornos en la mitad inferior de la imagen\n",
    "    height, width = car_r.shape[:2]\n",
    "    lower_half_contours = [cnt for cnt in contours if (cv2.boundingRect(cnt)[1] > height // 2)] #and \\\n",
    "                           #(cv2.boundingRect(cnt)[0] > width // 3 and cv2.boundingRect(cnt)[0] < width-(width // 3))]\n",
    "    print('lower half: ', height // 2)\n",
    "    print('central-third: ', width // 3,width-(width // 3), '\\n')\n",
    "\n",
    "    # Ordenar contornos por área (de mayor a menor)\n",
    "    lower_half_contours = sorted(lower_half_contours, key=cv2.contourArea, reverse=True)\n",
    "\n",
    "    # Obtener el contorno más grande\n",
    "    if lower_half_contours:\n",
    "        largest_contour = lower_half_contours[0]\n",
    "        #print('largest contour', largest_contour)\n",
    "\n",
    "        # Visualización del contorno más grande\n",
    "        canvas = np.zeros_like(car_r)\n",
    "        cv2.drawContours(canvas, [largest_contour], -1, (0, 255, 0), 2)\n",
    "        show_image('Contorno mas grande en la mitad inferior', canvas)\n",
    "\n",
    "        # Extraer la región correspondiente al contorno más grande\n",
    "        x, y, w, h = cv2.boundingRect(largest_contour)\n",
    "        #region = cv2.rectangle(gray,(x,y),(x+w,y+h),(0,255,0),2)\n",
    "\n",
    "        region = car_r[y:y+h,x:x + w]\n",
    "\n",
    "        # Mostrar la matrícula\n",
    "        show_image('Region Matricula', region)\n",
    "        #cv2.imshow('region', region)\n",
    "\n",
    "        # Utilizar pytesseract para la detección de texto en la imagen preprocesada\n",
    "        #text = pytesseract.image_to_string(region_of_interest, config=custom_config)\n",
    "        text = pytesseract.image_to_string(region)\n",
    "        print(text)\n",
    "        print(\"Matricula detectada:\", text)\n",
    "\n",
    "else:\n",
    "    print(\"No se detectó un coche en la imagen.\")"
   ]
  },
  {
   "cell_type": "markdown",
   "metadata": {
    "id": "VetPUsy2vO7N"
   },
   "source": [
    "#### Intento 2 - Placa\n",
    "Buscando la region aplicando escala de gris + canny + la funcion findContours()\n",
    "y un contorno con 4 vertices (rectangular)"
   ]
  },
  {
   "cell_type": "code",
   "execution_count": null,
   "metadata": {
    "id": "4-CtjDHVvO7N"
   },
   "outputs": [],
   "source": [
    "def detector_plate(image, show_plot=True):\n",
    "    # Guardamos imagen en variable\n",
    "    car = cv2.imread(\"Images/\" + image)\n",
    "\n",
    "    # Ruta de la imagen a procesar\n",
    "    img_path = \"Images/\" # + 'coche1.jpg'\n",
    "    # Leer la imagen\n",
    "    img = cv2.imread(img_path + image)\n",
    "    #show_image('img', img)\n",
    "    car = img\n",
    "\n",
    "    # Detectar coches\n",
    "    results_cars = model_car(car, verbose=False)\n",
    "\n",
    "    # Para cada detección de coche\n",
    "    for r_car in results_cars:\n",
    "        boxes_car = r_car.boxes\n",
    "\n",
    "        for box_car in boxes_car:\n",
    "            # Si la clase es un coche\n",
    "            if int(box_car.cls[0]) == 2:\n",
    "                # Coordenadas del cuadro del coche\n",
    "                x1_car, y1_car, x2_car, y2_car = box_car.xyxy[0]\n",
    "\n",
    "                # Definir la región inferior para buscar matrículas\n",
    "                roi_bottom = car[int((y1_car + y2_car) / 2):int(y2_car), int(x1_car):int(x2_car)]\n",
    "\n",
    "                #show_image('car', car)\n",
    "                #show_image('roi_bottom', roi_bottom)\n",
    "\n",
    "                # Convertir la región a escala de grises\n",
    "                gray_roi_bottom = cv2.cvtColor(roi_bottom, cv2.COLOR_BGR2GRAY)\n",
    "\n",
    "                #show_image('edge', gray_roi_bottom)\n",
    "\n",
    "                # Obtener bordes con canny\n",
    "                edges = cv2.Canny(gray_roi_bottom, 30, 200)\n",
    "\n",
    "                # Obtener contornos\n",
    "                cnts, new = cv2.findContours(edges.copy(), cv2.RETR_LIST, cv2.CHAIN_APPROX_SIMPLE)\n",
    "\n",
    "                # Obtener los 30 primeros contornos con mayor área\n",
    "                cnts = sorted(cnts, key=cv2.contourArea, reverse=True)[:30]\n",
    "                image_copy = roi_bottom.copy()\n",
    "\n",
    "                # Dibujar los contornos en la imagen\n",
    "                _ = cv2.drawContours(image_copy, cnts, -1, (255,0,255),2)\n",
    "\n",
    "                #if show_image:\n",
    "                    #plot_images(roi_bottom, gray_roi_bottom, 'lower part', 'grayscale')\n",
    "                    #plot_images(edges,image_copy,'edges', 'contours')\n",
    "\n",
    "                plate = None\n",
    "                for c in cnts:\n",
    "                    # Obtener el perímetro y el número de bordes\n",
    "                    perimeter = cv2.arcLength(c, True)\n",
    "                    edges_count = cv2.approxPolyDP(c, 0.02 * perimeter, True)\n",
    "                    # Si el contorno tiene 4 vértices, es una matrícula\n",
    "\n",
    "                    if len(edges_count) == 4:\n",
    "                        x,y,w,h = cv2.boundingRect(c)\n",
    "                        # Ajustamos las coordenadas de la matricula al tamaño original de la imagen\n",
    "                        x, y, w, h = int(x + x1_car), int(y + (y1_car + y2_car) / 2), int(w), int(h)\n",
    "                        plate = car[y:y+h, x+0:x+w]\n",
    "                        break\n",
    "\n",
    "                # Dibuja el contenedor y clase\n",
    "                cv2.rectangle(car, (int(x1_car), int(y1_car)), (int(x2_car), int(y2_car)), (0, 0, 255), 4)\n",
    "                cv2.putText(car, \"car\" , [int(x1_car), int(y1_car)], cv2.FONT_HERSHEY_SIMPLEX, 2, (0, 0, 255), 5)\n",
    "\n",
    "                cv2.rectangle(car, (x, y),(x+w, y+h), (0, 255, 0), 4)\n",
    "                #print(x,y,h,w)\n",
    "\n",
    "                # Si se ha detectado una matrícula se muestra en RGB\n",
    "                car = cv2.cvtColor(car, cv2.COLOR_BGR2RGB)\n",
    "                #plate = cv2.cvtColor(plate, cv2.COLOR_BGR2RGB)\n",
    "\n",
    "                if plate is not None:\n",
    "                    plot_images(car,edges,image_copy, plate,'car', 'plate')\n",
    "\n",
    "                text = pytesseract.image_to_string(plate, config='--psm 8', output_type=Output.STRING)\n",
    "\n",
    "    #text = plate_validation(text)\n",
    "\n",
    "    print(\"\\n[+] MATRÍCULA DETECTADA:\", text)"
   ]
  },
  {
   "cell_type": "markdown",
   "metadata": {
    "id": "ax2eRYtOvO7O"
   },
   "source": [
    "#### show image (openCV)"
   ]
  },
  {
   "cell_type": "code",
   "execution_count": null,
   "metadata": {
    "id": "_IFlxFGKvO7O"
   },
   "outputs": [],
   "source": [
    "# Visualización de las imágenes\n",
    "def show_image(window_name, image):\n",
    "    #resized_image = cv2.resize(image, desired_size)\n",
    "    #cv2.imshow(window_name, resized_image)\n",
    "    cv2.imshow(window_name, image)\n",
    "    #cv2.waitKey(0)\n",
    "    #cv2.destroyAllWindows()\n",
    "\n",
    "def box_label(image, box, label='', color=(128, 128, 128), txt_color=(255, 255, 255)):\n",
    "  lw = max(round(sum(image.shape) / 2 * 0.003), 2)\n",
    "  p1, p2 = (int(box[0]), int(box[1])), (int(box[2]), int(box[3]))\n",
    "  cv2.rectangle(image, p1, p2, color, thickness=lw, lineType=cv2.LINE_AA)\n",
    "  if label:\n",
    "    tf = max(lw - 1, 1)  # font thickness\n",
    "    w, h = cv2.getTextSize(label, 0, fontScale=lw / 3, thickness=tf)[0]  # text width, height\n",
    "    outside = p1[1] - h >= 3\n",
    "    p2 = p1[0] + w, p1[1] - h - 3 if outside else p1[1] + h + 3\n",
    "    cv2.rectangle(image, p1, p2, color, -1, cv2.LINE_AA)  # filled\n",
    "    cv2.putText(image,\n",
    "                label, (p1[0], p1[1] - 2 if outside else p1[1] + h + 2),\n",
    "                0,\n",
    "                lw / 3,\n",
    "                txt_color,\n",
    "                thickness=tf,\n",
    "                lineType=cv2.LINE_AA)\n"
   ]
  },
  {
   "cell_type": "markdown",
   "metadata": {
    "id": "DrSM6TLfvO7P"
   },
   "source": [
    "#### Plot Image (matplotlib)"
   ]
  },
  {
   "cell_type": "code",
   "execution_count": null,
   "metadata": {
    "id": "HPREdBSbvO7P"
   },
   "outputs": [],
   "source": [
    "# Método que coloca mas imágenes en una misma figura\n",
    "\n",
    "def plot_images(img1, img2,img3,img4, title1=\"\", title2=\"\",, title3=\"\", title4=\"\"):\n",
    "    fig = plt.figure(figsize=[15,15])\n",
    "    ax1 = fig.add_subplot(141)\n",
    "    ax1.imshow(img1, cmap=\"gray\")\n",
    "    ax1.set(xticks=[], yticks=[], title=title1)\n",
    "    ax2 = fig.add_subplot(142)\n",
    "    ax2.imshow(img2, cmap=\"gray\")\n",
    "    ax2.set(xticks=[], yticks=[], title=title2)\n",
    "    ax3 = fig.add_subplot(143)\n",
    "    ax3.imshow(img3, cmap=\"gray\")\n",
    "    ax3.set(xticks=[], yticks=[], title=title3)\n",
    "    ax4 = fig.add_subplot(144)\n",
    "    ax4.imshow(img4, cmap=\"gray\")\n",
    "    ax4.set(xticks=[], yticks=[], title=title4)\n",
    "\n",
    "    plt.show()"
   ]
  },
  {
   "cell_type": "markdown",
   "metadata": {
    "id": "HhcFuydTvO7P"
   },
   "source": [
    "#### Método para corregir formato de la matrícula (matrícula española)"
   ]
  },
  {
   "cell_type": "code",
   "execution_count": null,
   "metadata": {
    "id": "exPUB1U0vO7P"
   },
   "outputs": [],
   "source": [
    "def plate_validation(plate):\n",
    "    # Definir el patrón de la matrícula \"0000 AAA\"\n",
    "    plate_pattern = re.compile(r'^\\d{4}\\s[A-Z]{3}$')\n",
    "\n",
    "    if plate_pattern.match(plate):\n",
    "        # La matrícula cumple con el formato\n",
    "        return plate\n",
    "    else:\n",
    "        # La matrícula no cumple con el formato, intentar corregirla\n",
    "        plate_refactored = re.sub(r'^\\s*.*?(\\d{4}\\s[A-Z]{3}).*$', r'\\1', plate)\n",
    "        return plate_refactored\n",
    "\n",
    "# Cargamos el modelo de YOLO\n",
    "model_car = YOLO('Models/yolov8n.pt')\n",
    "\n",
    "# Guardamos la ruta absoluta de tesseract\n",
    "pytesseract.pytesseract.tesseract_cmd = r'C:/Program Files/Tesseract-OCR/tesseract'"
   ]
  },
  {
   "cell_type": "markdown",
   "metadata": {
    "id": "o-h_dm9LvO7Q"
   },
   "source": [
    "#### Test"
   ]
  },
  {
   "cell_type": "code",
   "execution_count": null,
   "metadata": {
    "id": "whwpVZNtvO7Q",
    "outputId": "9aac5306-ad7e-4b12-f207-d43aee4e12d6"
   },
   "outputs": [],
   "source": [
    "print(\"--- Ejemplo 1 ---\")\n",
    "detector_plate(image=\"coche1.jpg\", show_plot=False)\n",
    "\n",
    "print(\"--- Ejemplo 2 ---\")\n",
    "detector_plate(image=\"coche2.jpg\", show_plot=False)\n",
    "\n",
    "print(\"--- Ejemplo 3 ---\")\n",
    "detector_plate(image=\"coche4.jpg\", show_plot=False)\n",
    "\n",
    "print(\"--- Ejemplo 4 ---\")\n",
    "detector_plate(image=\"coche6.jpg\", show_plot=False)\n",
    "\n",
    "print(\"--- Ejemplo 5 ---\")\n",
    "detector_plate(image=\"coche7.jpg\", show_plot=False)\n"
   ]
  },
  {
   "cell_type": "code",
   "execution_count": null,
   "metadata": {
    "id": "RgIcwrlSvO7Q"
   },
   "outputs": [],
   "source": []
  }
 ],
 "metadata": {
  "colab": {
   "provenance": []
  },
  "kernelspec": {
   "display_name": "Python 3 (ipykernel)",
   "language": "python",
   "name": "python3"
  },
  "language_info": {
   "codemirror_mode": {
    "name": "ipython",
    "version": 3
   },
   "file_extension": ".py",
   "mimetype": "text/x-python",
   "name": "python",
   "nbconvert_exporter": "python",
   "pygments_lexer": "ipython3",
   "version": "3.10.12"
  }
 },
 "nbformat": 4,
 "nbformat_minor": 4
}
